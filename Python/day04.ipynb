{
 "cells": [
  {
   "cell_type": "code",
   "execution_count": 1,
   "id": "17d48909-07fc-4274-b8b9-6d4afb5a3763",
   "metadata": {},
   "outputs": [
    {
     "name": "stdout",
     "output_type": "stream",
     "text": [
      "(140, 140)\n"
     ]
    }
   ],
   "source": [
    "import numpy as np\n",
    "\n",
    "with open(\"input_day04.txt\", \"r\") as file:\n",
    "    lines = file.readlines()\n",
    "\n",
    "lines = [list(line.strip()) for line in lines]\n",
    "xmasArray = np.array(lines)\n",
    "rows, cols = xmasArray.shape\n",
    "print(xmasArray.shape)"
   ]
  },
  {
   "cell_type": "code",
   "execution_count": 2,
   "id": "261c6a2f-0a02-408e-b243-d8a83d51bfff",
   "metadata": {},
   "outputs": [
    {
     "name": "stdout",
     "output_type": "stream",
     "text": [
      "2358\n"
     ]
    }
   ],
   "source": [
    "# Part 1\n",
    "\n",
    "directions = [(-1, 0), (1, 0), (0, -1), (0, 1),(-1, -1), (-1, 1), (1, -1), (1, 1)]\n",
    "count = 0\n",
    "\n",
    "for i in range(rows):\n",
    "    for j in range(cols):\n",
    "        if xmasArray[i, j] == 'X':\n",
    "            for dx, dy in directions:\n",
    "                if (0 <= i + dx < rows and 0 <= j + dy < cols and xmasArray[i + dx, j + dy] == 'M' and\n",
    "                    0 <= i + 2*dx < rows and 0 <= j + 2*dy < cols and xmasArray[i + 2*dx, j + 2*dy] == 'A' and\n",
    "                    0 <= i + 3*dx < rows and 0 <= j + 3*dy < cols and xmasArray[i + 3*dx, j + 3*dy] == 'S'):\n",
    "                    count += 1\n",
    "print(count)"
   ]
  },
  {
   "cell_type": "code",
   "execution_count": 4,
   "id": "e82ee673-ee60-4e7b-bf6d-06d7f125abac",
   "metadata": {},
   "outputs": [
    {
     "name": "stdout",
     "output_type": "stream",
     "text": [
      "1737\n"
     ]
    }
   ],
   "source": [
    "# Part 2\n",
    "\n",
    "count = 0\n",
    "for i in range(rows):\n",
    "    for j in range(cols):\n",
    "        if xmasArray[i, j] == 'A':\n",
    "            if (0 <= i - 1 and i + 1 < rows and 0 <= j - 1 and j + 1 < cols): \n",
    "                if ((xmasArray[i-1, j-1] == 'M' and xmasArray[i+1, j+1] == 'S' and xmasArray[i+1, j-1] == 'M' and xmasArray[i-1, j+1] == 'S') or\n",
    "                    (xmasArray[i-1, j-1] == 'M' and xmasArray[i+1, j+1] == 'S' and xmasArray[i-1, j+1] == 'M' and xmasArray[i+1, j-1] == 'S') or\n",
    "                    (xmasArray[i-1, j-1] == 'S' and xmasArray[i+1, j+1] == 'M' and xmasArray[i+1, j-1] == 'S' and xmasArray[i-1, j+1] == 'M') or\n",
    "                    (xmasArray[i-1, j-1] == 'S' and xmasArray[i+1, j+1] == 'M' and xmasArray[i-1, j+1] == 'S' and xmasArray[i+1, j-1] == 'M')):\n",
    "                    count += 1\n",
    "print(count)"
   ]
  },
  {
   "cell_type": "code",
   "execution_count": null,
   "id": "8873b0a5-e457-4581-8f53-169a6daae3ed",
   "metadata": {},
   "outputs": [],
   "source": []
  }
 ],
 "metadata": {
  "kernelspec": {
   "display_name": "Python 3 (ipykernel)",
   "language": "python",
   "name": "python3"
  },
  "language_info": {
   "codemirror_mode": {
    "name": "ipython",
    "version": 3
   },
   "file_extension": ".py",
   "mimetype": "text/x-python",
   "name": "python",
   "nbconvert_exporter": "python",
   "pygments_lexer": "ipython3",
   "version": "3.13.3"
  }
 },
 "nbformat": 4,
 "nbformat_minor": 5
}
