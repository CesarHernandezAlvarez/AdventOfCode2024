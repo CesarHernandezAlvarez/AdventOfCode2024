{
 "cells": [
  {
   "cell_type": "code",
   "execution_count": 1,
   "id": "2496cc72-cc44-41e6-a21d-0a20a31a1f0a",
   "metadata": {},
   "outputs": [],
   "source": [
    "import numpy as np"
   ]
  },
  {
   "cell_type": "code",
   "execution_count": 2,
   "id": "5781b978-a640-4f7b-b141-b80f2cf91b74",
   "metadata": {},
   "outputs": [],
   "source": [
    "with open(\"input_day01.txt\", \"r\") as inputFile, open(\"input_day01.csv\", \"w\") as outputFile:\n",
    "    for line in inputFile:\n",
    "        values = line.strip().split()\n",
    "        outputFile.write(\",\".join(values) + \"\\n\")"
   ]
  },
  {
   "cell_type": "code",
   "execution_count": 7,
   "id": "d4410cfe-513b-4336-8c1d-6da7c559396b",
   "metadata": {},
   "outputs": [
    {
     "name": "stdout",
     "output_type": "stream",
     "text": [
      "1873376\n"
     ]
    }
   ],
   "source": [
    "# Part 1\n",
    "data = np.loadtxt(\"input_day01.csv\", delimiter=\",\", dtype=int)\n",
    "array_a = data[:,0]\n",
    "array_b = data[:,1]\n",
    "array_a_sort = np.sort(array_a)\n",
    "array_b_sort = np.sort(array_b)\n",
    "totalDistance = np.sum(np.abs(array_a_sort-array_b_sort))\n",
    "print(totalDistance)"
   ]
  },
  {
   "cell_type": "code",
   "execution_count": 8,
   "id": "ab1d0be9-f6d4-4239-be44-8f3103e37923",
   "metadata": {},
   "outputs": [
    {
     "name": "stdout",
     "output_type": "stream",
     "text": [
      "18997088\n"
     ]
    }
   ],
   "source": [
    "# Part 2\n",
    "similarityArray = np.array([np.sum(array_b == x) for x in array_a])\n",
    "similarityScore = np.sum(array_a*similarityArray)\n",
    "print(similarityScore)"
   ]
  },
  {
   "cell_type": "code",
   "execution_count": null,
   "id": "8b69455a-5bd6-48a2-980c-eb7a91148b0e",
   "metadata": {},
   "outputs": [],
   "source": []
  }
 ],
 "metadata": {
  "kernelspec": {
   "display_name": "Python 3 (ipykernel)",
   "language": "python",
   "name": "python3"
  },
  "language_info": {
   "codemirror_mode": {
    "name": "ipython",
    "version": 3
   },
   "file_extension": ".py",
   "mimetype": "text/x-python",
   "name": "python",
   "nbconvert_exporter": "python",
   "pygments_lexer": "ipython3",
   "version": "3.13.3"
  }
 },
 "nbformat": 4,
 "nbformat_minor": 5
}
