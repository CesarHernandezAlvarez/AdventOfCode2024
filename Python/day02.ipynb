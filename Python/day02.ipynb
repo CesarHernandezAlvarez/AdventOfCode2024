{
 "cells": [
  {
   "cell_type": "code",
   "execution_count": 1,
   "id": "67d13647-64d9-406a-8cc2-91712cd093c1",
   "metadata": {},
   "outputs": [],
   "source": [
    "import numpy as np\n",
    "import csv\n",
    "\n",
    "with open(\"input_day02.txt\", \"r\") as inputFile, open(\"input_day02.csv\", \"w\") as outputFile:\n",
    "    for line in inputFile:\n",
    "        values = line.strip().split()\n",
    "        outputFile.write(\",\".join(values) + \"\\n\")\n",
    "\n",
    "reportsList = []\n",
    "with open(\"input_day02.csv\", \"r\") as file:\n",
    "    readFile = csv.reader(file)\n",
    "    for row in readFile:\n",
    "        reportSingle = [int(x) for x in row]\n",
    "        reportsList.append(reportSingle)"
   ]
  },
  {
   "cell_type": "code",
   "execution_count": 8,
   "id": "e147b1ec-ce43-40df-982e-66df9ec24400",
   "metadata": {},
   "outputs": [
    {
     "name": "stdout",
     "output_type": "stream",
     "text": [
      "606\n"
     ]
    }
   ],
   "source": [
    "## Part 1\n",
    "safeReports = sum(all(0 < abs(report[i] - report[i + 1]) < 4 for i in range(len(report) - 1))\n",
    "                  for report in reportsList if report == sorted(report) or report == sorted(report,reverse=True))\n",
    "print(safeReports)"
   ]
  },
  {
   "cell_type": "code",
   "execution_count": 39,
   "id": "53b3ac01-4844-4b1c-ac9c-74ba725df5c5",
   "metadata": {},
   "outputs": [
    {
     "name": "stdout",
     "output_type": "stream",
     "text": [
      "644\n"
     ]
    }
   ],
   "source": [
    "## Part 2\n",
    "safeReports = 0\n",
    "\n",
    "for report in reportsList:\n",
    "    if report == sorted(report) or report == sorted(report, reverse=True):\n",
    "        if all(0 < abs(report[i] - report[i + 1]) < 4 for i in range(len(report) - 1)):\n",
    "            safeReports += 1\n",
    "            continue\n",
    "\n",
    "    for i in range(len(report)):\n",
    "        temp = report[:i] + report[i+1:]\n",
    "        if temp == sorted(temp) or temp == sorted(temp, reverse=True):\n",
    "            if all(0 < abs(temp[j] - temp[j + 1]) < 4 for j in range(len(temp) - 1)):\n",
    "                safeReports += 1\n",
    "                break\n",
    "\n",
    "print(safeReports)"
   ]
  },
  {
   "cell_type": "code",
   "execution_count": null,
   "id": "4218d3ff-6b20-44ea-8ded-365ce2b44a3c",
   "metadata": {},
   "outputs": [],
   "source": []
  }
 ],
 "metadata": {
  "kernelspec": {
   "display_name": "Python 3 (ipykernel)",
   "language": "python",
   "name": "python3"
  },
  "language_info": {
   "codemirror_mode": {
    "name": "ipython",
    "version": 3
   },
   "file_extension": ".py",
   "mimetype": "text/x-python",
   "name": "python",
   "nbconvert_exporter": "python",
   "pygments_lexer": "ipython3",
   "version": "3.13.3"
  }
 },
 "nbformat": 4,
 "nbformat_minor": 5
}
