{
 "cells": [
  {
   "cell_type": "code",
   "execution_count": 22,
   "id": "817b314e-e777-4484-bcb0-e2963c2e9d2e",
   "metadata": {},
   "outputs": [],
   "source": [
    "import re\n",
    "\n",
    "with open(\"input_day03.txt\", \"r\") as file:\n",
    "    text = file.read()"
   ]
  },
  {
   "cell_type": "code",
   "execution_count": 23,
   "id": "c1720d43-3706-4185-b780-a7c327b13dc7",
   "metadata": {},
   "outputs": [
    {
     "name": "stdout",
     "output_type": "stream",
     "text": [
      "164730528\n"
     ]
    }
   ],
   "source": [
    "# Part 1\n",
    "\n",
    "mul = r\"mul\\((\\d{1,3}),(\\d{1,3})\\)\"\n",
    "matches = re.findall(mul, text)\n",
    "resultMul = sum(int(x) * int(y) for x, y in matches)\n",
    "print(resultMul)"
   ]
  },
  {
   "cell_type": "code",
   "execution_count": 25,
   "id": "d17e3748-6c29-4011-9448-cd639f292a0e",
   "metadata": {},
   "outputs": [
    {
     "name": "stdout",
     "output_type": "stream",
     "text": [
      "70478672\n"
     ]
    }
   ],
   "source": [
    "# Part 2\n",
    "\n",
    "enabled = True\n",
    "resultMul = 0\n",
    "\n",
    "sections = re.split(r\"(do\\(\\)|don\\'t\\(\\))\", text)\n",
    "for section in sections:\n",
    "    if 'do()' in section:\n",
    "        enabled = True\n",
    "    elif 'don\\'t()' in section:\n",
    "        enabled = False\n",
    "\n",
    "    for match in re.findall(mul,section):\n",
    "        x,y = match\n",
    "        if enabled:\n",
    "            resultMul += int(x)*int(y)\n",
    "\n",
    "print(resultMul)"
   ]
  },
  {
   "cell_type": "code",
   "execution_count": null,
   "id": "50900805-552e-446b-ac2a-1c62fe3a395a",
   "metadata": {},
   "outputs": [],
   "source": []
  }
 ],
 "metadata": {
  "kernelspec": {
   "display_name": "Python 3 (ipykernel)",
   "language": "python",
   "name": "python3"
  },
  "language_info": {
   "codemirror_mode": {
    "name": "ipython",
    "version": 3
   },
   "file_extension": ".py",
   "mimetype": "text/x-python",
   "name": "python",
   "nbconvert_exporter": "python",
   "pygments_lexer": "ipython3",
   "version": "3.13.3"
  }
 },
 "nbformat": 4,
 "nbformat_minor": 5
}
